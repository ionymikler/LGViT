{
 "cells": [
  {
   "cell_type": "code",
   "execution_count": 1,
   "metadata": {},
   "outputs": [
    {
     "name": "stderr",
     "output_type": "stream",
     "text": [
      "/home/iony/miniconda3/envs/lgvit/lib/python3.9/site-packages/tqdm/auto.py:21: TqdmWarning: IProgress not found. Please update jupyter and ipywidgets. See https://ipywidgets.readthedocs.io/en/stable/user_install.html\n",
      "  from .autonotebook import tqdm as notebook_tqdm\n"
     ]
    }
   ],
   "source": [
    "import datasets\n",
    "from transformers import (\n",
    "    HfArgumentParser,\n",
    "    TrainingArguments,\n",
    ")\n",
    "\n",
    "# local\n",
    "from examples.lgvit_utils import (\n",
    "    ModelArguments,\n",
    "    DataTrainingArguments,\n",
    ")\n",
    "\n",
    "from models.deit_highway import DeiTImageProcessor, DeiTConfig, DeiTHighwayForImageClassification\n"
   ]
  },
  {
   "cell_type": "code",
   "execution_count": 2,
   "metadata": {},
   "outputs": [
    {
     "name": "stderr",
     "output_type": "stream",
     "text": [
      "/home/iony/miniconda3/envs/lgvit/lib/python3.9/site-packages/datasets/load.py:2088: FutureWarning: 'use_auth_token' was deprecated in favor of 'token' in version 2.14.0 and will be removed in 3.0.0.\n",
      "You can remove this warning by passing 'token=<use_auth_token>' instead.\n",
      "  warnings.warn(\n",
      "/home/iony/miniconda3/envs/lgvit/lib/python3.9/site-packages/datasets/load.py:2102: FutureWarning: 'task' was deprecated in version 2.13.0 and will be removed in 3.0.0.\n",
      "\n",
      "  warnings.warn(\n",
      "/home/iony/miniconda3/envs/lgvit/lib/python3.9/site-packages/transformers/modeling_utils.py:415: FutureWarning: You are using `torch.load` with `weights_only=False` (the current default value), which uses the default pickle module implicitly. It is possible to construct malicious pickle data which will execute arbitrary code during unpickling (See https://github.com/pytorch/pytorch/blob/main/SECURITY.md#untrusted-models for more details). In a future release, the default value for `weights_only` will be flipped to `True`. This limits the functions that could be executed during unpickling. Arbitrary objects will no longer be allowed to be loaded via this mode unless they are explicitly allowlisted by the user via `torch.serialization.add_safe_globals`. We recommend you start setting `weights_only=True` for any use case where you don't have full control of the loaded file. Please open an issue on GitHub for any issues related to this experimental feature.\n",
      "  return torch.load(checkpoint_file, map_location=\"cpu\")\n"
     ]
    },
    {
     "name": "stdout",
     "output_type": "stream",
     "text": [
      "backbone:DeiT\n",
      "exit_type:LGViT\n",
      "use_lte:False\n",
      "The exits are in position: [4, 5, 6, 7, 8, 9, 10, 11]\n"
     ]
    },
    {
     "name": "stderr",
     "output_type": "stream",
     "text": [
      "Some weights of the model checkpoint at /home/iony/DTU/f24/thesis/code/lgvit/LGViT-ViT-Cifar100 were not used when initializing DeiTHighwayForImageClassification: ['classifier.weight', 'deit.encoder.highway.3.classifier.weight', 'deit.encoder.highway.7.classifier.bias', 'deit.encoder.highway.5.classifier.bias', 'deit.encoder.highway.4.classifier.bias', 'deit.encoder.highway.1.classifier.bias', 'deit.encoder.highway.0.classifier.bias', 'deit.encoder.highway.5.classifier.weight', 'deit.encoder.highway.3.classifier.bias', 'deit.encoder.highway.0.classifier.weight', 'deit.encoder.highway.2.classifier.weight', 'deit.encoder.highway.7.classifier.weight', 'deit.encoder.highway.2.classifier.bias', 'deit.encoder.highway.1.classifier.weight', 'deit.encoder.highway.6.classifier.weight', 'deit.encoder.highway.6.classifier.bias', 'deit.encoder.highway.4.classifier.weight', 'classifier.bias']\n",
      "- This IS expected if you are initializing DeiTHighwayForImageClassification from the checkpoint of a model trained on another task or with another architecture (e.g. initializing a BertForSequenceClassification model from a BertForPreTraining model).\n",
      "- This IS NOT expected if you are initializing DeiTHighwayForImageClassification from the checkpoint of a model that you expect to be exactly identical (initializing a BertForSequenceClassification model from a BertForSequenceClassification model).\n",
      "Some weights of DeiTHighwayForImageClassification were not initialized from the model checkpoint at /home/iony/DTU/f24/thesis/code/lgvit/LGViT-ViT-Cifar100 and are newly initialized: ['deit.encoder.highway.2.cls_classifier.weight', 'deit.encoder.highway.5.distillation_classifier.weight', 'deit.encoder.highway.0.distillation_classifier.weight', 'deit.encoder.highway.6.distillation_classifier.weight', 'distillation_classifier.weight', 'deit.encoder.highway.7.cls_classifier.weight', 'deit.embeddings.distillation_token', 'deit.encoder.highway.0.cls_classifier.weight', 'deit.encoder.highway.6.distillation_classifier.bias', 'deit.encoder.highway.0.distillation_classifier.bias', 'deit.encoder.highway.1.distillation_classifier.weight', 'deit.encoder.highway.3.distillation_classifier.bias', 'deit.encoder.highway.1.cls_classifier.bias', 'deit.encoder.highway.7.distillation_classifier.bias', 'deit.encoder.highway.7.distillation_classifier.weight', 'deit.encoder.highway.5.distillation_classifier.bias', 'deit.encoder.highway.2.distillation_classifier.weight', 'deit.encoder.highway.6.cls_classifier.weight', 'deit.encoder.highway.6.cls_classifier.bias', 'deit.encoder.highway.3.distillation_classifier.weight', 'deit.encoder.highway.1.cls_classifier.weight', 'deit.encoder.highway.7.cls_classifier.bias', 'cls_classifier.weight', 'deit.encoder.highway.3.cls_classifier.weight', 'cls_classifier.bias', 'deit.encoder.highway.4.cls_classifier.bias', 'deit.encoder.highway.2.distillation_classifier.bias', 'deit.encoder.highway.4.distillation_classifier.weight', 'deit.encoder.highway.5.cls_classifier.bias', 'deit.encoder.highway.1.distillation_classifier.bias', 'deit.encoder.highway.2.cls_classifier.bias', 'deit.encoder.highway.4.distillation_classifier.bias', 'deit.encoder.highway.4.cls_classifier.weight', 'deit.encoder.highway.5.cls_classifier.weight', 'deit.encoder.highway.3.cls_classifier.bias', 'deit.encoder.highway.0.cls_classifier.bias', 'distillation_classifier.bias']\n",
      "You should probably TRAIN this model on a down-stream task to be able to use it for predictions and inference.\n",
      "Some weights of DeiTHighwayForImageClassification were not initialized from the model checkpoint at /home/iony/DTU/f24/thesis/code/lgvit/LGViT-ViT-Cifar100 and are newly initialized because the shapes did not match:\n",
      "- deit.embeddings.position_embeddings: found shape torch.Size([1, 197, 768]) in the checkpoint and torch.Size([1, 198, 768]) in the model instantiated\n",
      "You should probably TRAIN this model on a down-stream task to be able to use it for predictions and inference.\n"
     ]
    }
   ],
   "source": [
    "parser = HfArgumentParser((ModelArguments, DataTrainingArguments, TrainingArguments))\n",
    "args = [\n",
    "\"--run_name\" ,\"DeiT_confidence_LGViT__LGViT\",\n",
    "\"--image_processor_name\" ,\"facebook/deit-base-distilled-patch16-224\",\n",
    "\"--config_name\" ,\"facebook/deit-base-distilled-patch16-224\",\n",
    "\"--model_name_or_path\" ,\"/home/iony/DTU/f24/thesis/code/lgvit/LGViT-ViT-Cifar100\",\n",
    "\"--dataset_name\" ,\"uoft-cs/cifar100\",\n",
    "\"--output_dir\" ,\"../outputs/DeiT-base/uoft-cs/cifar100/LGViT/confidence/\",\n",
    "\"--remove_unused_columns\" ,\"False\",\n",
    "\"--backbone\" ,\"DeiT\",\n",
    "\"--exit_strategy\" ,\"confidence\",\n",
    "\"--do_train\" ,\"False\",\n",
    "\"--do_eval\", \"True\",\n",
    "\"--per_device_eval_batch_size\" ,\"1\",\n",
    "\"--seed\" ,\"777\",\n",
    "\"--report_to\" ,\"wandb\",\n",
    "\"--use_auth_token\" ,\"False\",\n",
    "\"--ignore_mismatched_sizes\" ,\"True\",\n",
    "]\n",
    "model_args, data_args, training_args = parser.parse_args_into_dataclasses(args)\n",
    "\n",
    "task_arg = datasets.ImageClassification(image_column='img', label_column='fine_label')\n",
    "\n",
    "dataset = datasets.load_dataset(\n",
    "    path=data_args.dataset_name,\n",
    "    name=data_args.dataset_config_name,\n",
    "    cache_dir=model_args.cache_dir,\n",
    "    task=task_arg,\n",
    "    use_auth_token=True if model_args.use_auth_token else None,\n",
    "    # ignore_verifications=True,\n",
    ")\n",
    "\n",
    "# Prepare label mappings.\n",
    "# We'll include these in the model's config to get human readable labels in the Inference API.\n",
    "labels = dataset[\"train\"].features[\"labels\"].names\n",
    "label2id, id2label = dict(), dict()\n",
    "for i, label in enumerate(labels):\n",
    "    label2id[label] = str(i)\n",
    "    id2label[str(i)] = label\n",
    "\n",
    "# only eval case\n",
    "config = DeiTConfig.from_pretrained(\n",
    "    model_args.model_name_or_path,\n",
    "    num_labels=len(labels),\n",
    "    label2id=label2id,\n",
    "    id2label=id2label,\n",
    "    finetuning_task=\"image-classification\",\n",
    "    cache_dir=model_args.cache_dir,\n",
    "    revision=model_args.model_revision,\n",
    "    backbone=model_args.backbone,\n",
    "    threshold=model_args.threshold,\n",
    "    exit_strategy=model_args.exit_strategy,\n",
    "    # train_strategy=model_args.train_strategy,\n",
    "    # num_early_exits=model_args.num_early_exits,\n",
    "    # position_exits=model_args.position_exits,\n",
    "    # highway_type=model_args.highway_type,\n",
    "    # loss_coefficient=model_args.loss_coefficient,\n",
    "    # homo_loss_coefficient=model_args.homo_loss_coefficient,\n",
    "    # hete_loss_coefficient=model_args.hete_loss_coefficient,\n",
    "    # feature_loss_coefficient=model_args.feature_loss_coefficient,\n",
    "    # output_hidden_states=model_args.output_hidden_states,\n",
    "    # use_auth_token=True if model_args.use_auth_token else None,\n",
    ")\n",
    "\n",
    "total_optimization_steps = int(len(dataset['train']) // training_args.per_device_train_batch_size * training_args.num_train_epochs)\n",
    "config.total_optimization_steps = total_optimization_steps\n",
    "\n",
    "model = DeiTHighwayForImageClassification.from_pretrained(\n",
    "    model_args.model_name_or_path,\n",
    "    from_tf=bool(\".ckpt\" in model_args.model_name_or_path),\n",
    "    config=config,\n",
    "    train_highway=True,\n",
    "    cache_dir=model_args.cache_dir,\n",
    "    revision=model_args.model_revision,\n",
    "    # use_auth_token=True if model_args.use_auth_token else None,\n",
    "    ignore_mismatched_sizes=model_args.ignore_mismatched_sizes,\n",
    ")\n"
   ]
  },
  {
   "cell_type": "code",
   "execution_count": 10,
   "metadata": {},
   "outputs": [
    {
     "ename": "AttributeError",
     "evalue": "'PngImageFile' object has no attribute 'dtype'",
     "output_type": "error",
     "traceback": [
      "\u001b[0;31m---------------------------------------------------------------------------\u001b[0m",
      "\u001b[0;31mAttributeError\u001b[0m                            Traceback (most recent call last)",
      "Cell \u001b[0;32mIn[10], line 2\u001b[0m\n\u001b[1;32m      1\u001b[0m X \u001b[38;5;241m=\u001b[39m dataset[\u001b[38;5;124m'\u001b[39m\u001b[38;5;124mtrain\u001b[39m\u001b[38;5;124m'\u001b[39m][\u001b[38;5;241m0\u001b[39m]\n\u001b[0;32m----> 2\u001b[0m y \u001b[38;5;241m=\u001b[39m \u001b[43mmodel\u001b[49m\u001b[43m(\u001b[49m\u001b[43mX\u001b[49m\u001b[43m[\u001b[49m\u001b[38;5;124;43m\"\u001b[39;49m\u001b[38;5;124;43mimage\u001b[39;49m\u001b[38;5;124;43m\"\u001b[39;49m\u001b[43m]\u001b[49m\u001b[43m)\u001b[49m\n\u001b[1;32m      4\u001b[0m \u001b[38;5;28mprint\u001b[39m(X[\u001b[38;5;124m\"\u001b[39m\u001b[38;5;124mpixel_values\u001b[39m\u001b[38;5;124m\"\u001b[39m]\u001b[38;5;241m.\u001b[39mshape)\n\u001b[1;32m      5\u001b[0m \u001b[38;5;28mprint\u001b[39m(y\u001b[38;5;241m.\u001b[39mshape)\n",
      "File \u001b[0;32m~/miniconda3/envs/lgvit/lib/python3.9/site-packages/torch/nn/modules/module.py:1736\u001b[0m, in \u001b[0;36mModule._wrapped_call_impl\u001b[0;34m(self, *args, **kwargs)\u001b[0m\n\u001b[1;32m   1734\u001b[0m     \u001b[38;5;28;01mreturn\u001b[39;00m \u001b[38;5;28mself\u001b[39m\u001b[38;5;241m.\u001b[39m_compiled_call_impl(\u001b[38;5;241m*\u001b[39margs, \u001b[38;5;241m*\u001b[39m\u001b[38;5;241m*\u001b[39mkwargs)  \u001b[38;5;66;03m# type: ignore[misc]\u001b[39;00m\n\u001b[1;32m   1735\u001b[0m \u001b[38;5;28;01melse\u001b[39;00m:\n\u001b[0;32m-> 1736\u001b[0m     \u001b[38;5;28;01mreturn\u001b[39;00m \u001b[38;5;28;43mself\u001b[39;49m\u001b[38;5;241;43m.\u001b[39;49m\u001b[43m_call_impl\u001b[49m\u001b[43m(\u001b[49m\u001b[38;5;241;43m*\u001b[39;49m\u001b[43margs\u001b[49m\u001b[43m,\u001b[49m\u001b[43m \u001b[49m\u001b[38;5;241;43m*\u001b[39;49m\u001b[38;5;241;43m*\u001b[39;49m\u001b[43mkwargs\u001b[49m\u001b[43m)\u001b[49m\n",
      "File \u001b[0;32m~/miniconda3/envs/lgvit/lib/python3.9/site-packages/torch/nn/modules/module.py:1747\u001b[0m, in \u001b[0;36mModule._call_impl\u001b[0;34m(self, *args, **kwargs)\u001b[0m\n\u001b[1;32m   1742\u001b[0m \u001b[38;5;66;03m# If we don't have any hooks, we want to skip the rest of the logic in\u001b[39;00m\n\u001b[1;32m   1743\u001b[0m \u001b[38;5;66;03m# this function, and just call forward.\u001b[39;00m\n\u001b[1;32m   1744\u001b[0m \u001b[38;5;28;01mif\u001b[39;00m \u001b[38;5;129;01mnot\u001b[39;00m (\u001b[38;5;28mself\u001b[39m\u001b[38;5;241m.\u001b[39m_backward_hooks \u001b[38;5;129;01mor\u001b[39;00m \u001b[38;5;28mself\u001b[39m\u001b[38;5;241m.\u001b[39m_backward_pre_hooks \u001b[38;5;129;01mor\u001b[39;00m \u001b[38;5;28mself\u001b[39m\u001b[38;5;241m.\u001b[39m_forward_hooks \u001b[38;5;129;01mor\u001b[39;00m \u001b[38;5;28mself\u001b[39m\u001b[38;5;241m.\u001b[39m_forward_pre_hooks\n\u001b[1;32m   1745\u001b[0m         \u001b[38;5;129;01mor\u001b[39;00m _global_backward_pre_hooks \u001b[38;5;129;01mor\u001b[39;00m _global_backward_hooks\n\u001b[1;32m   1746\u001b[0m         \u001b[38;5;129;01mor\u001b[39;00m _global_forward_hooks \u001b[38;5;129;01mor\u001b[39;00m _global_forward_pre_hooks):\n\u001b[0;32m-> 1747\u001b[0m     \u001b[38;5;28;01mreturn\u001b[39;00m \u001b[43mforward_call\u001b[49m\u001b[43m(\u001b[49m\u001b[38;5;241;43m*\u001b[39;49m\u001b[43margs\u001b[49m\u001b[43m,\u001b[49m\u001b[43m \u001b[49m\u001b[38;5;241;43m*\u001b[39;49m\u001b[38;5;241;43m*\u001b[39;49m\u001b[43mkwargs\u001b[49m\u001b[43m)\u001b[49m\n\u001b[1;32m   1749\u001b[0m result \u001b[38;5;241m=\u001b[39m \u001b[38;5;28;01mNone\u001b[39;00m\n\u001b[1;32m   1750\u001b[0m called_always_called_hooks \u001b[38;5;241m=\u001b[39m \u001b[38;5;28mset\u001b[39m()\n",
      "File \u001b[0;32m~/DTU/f24/thesis/code/lgvit/lgvit_repo/models/deit_highway/modeling_highway_deit.py:442\u001b[0m, in \u001b[0;36mDeiTHighwayForImageClassification.forward\u001b[0;34m(self, pixel_values, head_mask, labels, output_attentions, output_hidden_states, return_dict, output_layer)\u001b[0m\n\u001b[1;32m    437\u001b[0m output_hidden_states \u001b[38;5;241m=\u001b[39m (\n\u001b[1;32m    438\u001b[0m     output_hidden_states \u001b[38;5;28;01mif\u001b[39;00m output_hidden_states \u001b[38;5;129;01mis\u001b[39;00m \u001b[38;5;129;01mnot\u001b[39;00m \u001b[38;5;28;01mNone\u001b[39;00m \u001b[38;5;28;01melse\u001b[39;00m \u001b[38;5;28mself\u001b[39m\u001b[38;5;241m.\u001b[39mconfig\u001b[38;5;241m.\u001b[39moutput_hidden_states\n\u001b[1;32m    439\u001b[0m )\n\u001b[1;32m    441\u001b[0m \u001b[38;5;28;01mtry\u001b[39;00m:\n\u001b[0;32m--> 442\u001b[0m     outputs \u001b[38;5;241m=\u001b[39m \u001b[38;5;28;43mself\u001b[39;49m\u001b[38;5;241;43m.\u001b[39;49m\u001b[43mdeit\u001b[49m\u001b[43m(\u001b[49m\n\u001b[1;32m    443\u001b[0m \u001b[43m        \u001b[49m\u001b[43mpixel_values\u001b[49m\u001b[43m,\u001b[49m\n\u001b[1;32m    444\u001b[0m \u001b[43m        \u001b[49m\u001b[43mhead_mask\u001b[49m\u001b[38;5;241;43m=\u001b[39;49m\u001b[43mhead_mask\u001b[49m\u001b[43m,\u001b[49m\n\u001b[1;32m    445\u001b[0m \u001b[43m        \u001b[49m\u001b[43moutput_attentions\u001b[49m\u001b[38;5;241;43m=\u001b[39;49m\u001b[43moutput_attentions\u001b[49m\u001b[43m,\u001b[49m\n\u001b[1;32m    446\u001b[0m \u001b[43m        \u001b[49m\u001b[43moutput_hidden_states\u001b[49m\u001b[38;5;241;43m=\u001b[39;49m\u001b[43moutput_hidden_states\u001b[49m\u001b[43m,\u001b[49m\n\u001b[1;32m    447\u001b[0m \u001b[43m        \u001b[49m\u001b[43mreturn_dict\u001b[49m\u001b[38;5;241;43m=\u001b[39;49m\u001b[43mreturn_dict\u001b[49m\u001b[43m,\u001b[49m\u001b[43m \u001b[49m\u001b[43m)\u001b[49m\n\u001b[1;32m    448\u001b[0m     \u001b[38;5;66;03m#  last_hidden_state(sequence_output), pooler_output, (hidden_states), (attentions), highway_exits\u001b[39;00m\n\u001b[1;32m    450\u001b[0m     sequence_output \u001b[38;5;241m=\u001b[39m outputs[\u001b[38;5;241m0\u001b[39m]\n",
      "File \u001b[0;32m~/miniconda3/envs/lgvit/lib/python3.9/site-packages/torch/nn/modules/module.py:1736\u001b[0m, in \u001b[0;36mModule._wrapped_call_impl\u001b[0;34m(self, *args, **kwargs)\u001b[0m\n\u001b[1;32m   1734\u001b[0m     \u001b[38;5;28;01mreturn\u001b[39;00m \u001b[38;5;28mself\u001b[39m\u001b[38;5;241m.\u001b[39m_compiled_call_impl(\u001b[38;5;241m*\u001b[39margs, \u001b[38;5;241m*\u001b[39m\u001b[38;5;241m*\u001b[39mkwargs)  \u001b[38;5;66;03m# type: ignore[misc]\u001b[39;00m\n\u001b[1;32m   1735\u001b[0m \u001b[38;5;28;01melse\u001b[39;00m:\n\u001b[0;32m-> 1736\u001b[0m     \u001b[38;5;28;01mreturn\u001b[39;00m \u001b[38;5;28;43mself\u001b[39;49m\u001b[38;5;241;43m.\u001b[39;49m\u001b[43m_call_impl\u001b[49m\u001b[43m(\u001b[49m\u001b[38;5;241;43m*\u001b[39;49m\u001b[43margs\u001b[49m\u001b[43m,\u001b[49m\u001b[43m \u001b[49m\u001b[38;5;241;43m*\u001b[39;49m\u001b[38;5;241;43m*\u001b[39;49m\u001b[43mkwargs\u001b[49m\u001b[43m)\u001b[49m\n",
      "File \u001b[0;32m~/miniconda3/envs/lgvit/lib/python3.9/site-packages/torch/nn/modules/module.py:1747\u001b[0m, in \u001b[0;36mModule._call_impl\u001b[0;34m(self, *args, **kwargs)\u001b[0m\n\u001b[1;32m   1742\u001b[0m \u001b[38;5;66;03m# If we don't have any hooks, we want to skip the rest of the logic in\u001b[39;00m\n\u001b[1;32m   1743\u001b[0m \u001b[38;5;66;03m# this function, and just call forward.\u001b[39;00m\n\u001b[1;32m   1744\u001b[0m \u001b[38;5;28;01mif\u001b[39;00m \u001b[38;5;129;01mnot\u001b[39;00m (\u001b[38;5;28mself\u001b[39m\u001b[38;5;241m.\u001b[39m_backward_hooks \u001b[38;5;129;01mor\u001b[39;00m \u001b[38;5;28mself\u001b[39m\u001b[38;5;241m.\u001b[39m_backward_pre_hooks \u001b[38;5;129;01mor\u001b[39;00m \u001b[38;5;28mself\u001b[39m\u001b[38;5;241m.\u001b[39m_forward_hooks \u001b[38;5;129;01mor\u001b[39;00m \u001b[38;5;28mself\u001b[39m\u001b[38;5;241m.\u001b[39m_forward_pre_hooks\n\u001b[1;32m   1745\u001b[0m         \u001b[38;5;129;01mor\u001b[39;00m _global_backward_pre_hooks \u001b[38;5;129;01mor\u001b[39;00m _global_backward_hooks\n\u001b[1;32m   1746\u001b[0m         \u001b[38;5;129;01mor\u001b[39;00m _global_forward_hooks \u001b[38;5;129;01mor\u001b[39;00m _global_forward_pre_hooks):\n\u001b[0;32m-> 1747\u001b[0m     \u001b[38;5;28;01mreturn\u001b[39;00m \u001b[43mforward_call\u001b[49m\u001b[43m(\u001b[49m\u001b[38;5;241;43m*\u001b[39;49m\u001b[43margs\u001b[49m\u001b[43m,\u001b[49m\u001b[43m \u001b[49m\u001b[38;5;241;43m*\u001b[39;49m\u001b[38;5;241;43m*\u001b[39;49m\u001b[43mkwargs\u001b[49m\u001b[43m)\u001b[49m\n\u001b[1;32m   1749\u001b[0m result \u001b[38;5;241m=\u001b[39m \u001b[38;5;28;01mNone\u001b[39;00m\n\u001b[1;32m   1750\u001b[0m called_always_called_hooks \u001b[38;5;241m=\u001b[39m \u001b[38;5;28mset\u001b[39m()\n",
      "File \u001b[0;32m~/DTU/f24/thesis/code/lgvit/lgvit_repo/models/deit_highway/modeling_highway_deit.py:363\u001b[0m, in \u001b[0;36mDeiTModel.forward\u001b[0;34m(self, pixel_values, bool_masked_pos, head_mask, output_attentions, output_hidden_states, return_dict)\u001b[0m\n\u001b[1;32m    361\u001b[0m \u001b[38;5;66;03m# TODO: maybe have a cleaner way to cast the input (from `ImageProcessor` side?)\u001b[39;00m\n\u001b[1;32m    362\u001b[0m expected_dtype \u001b[38;5;241m=\u001b[39m \u001b[38;5;28mself\u001b[39m\u001b[38;5;241m.\u001b[39membeddings\u001b[38;5;241m.\u001b[39mpatch_embeddings\u001b[38;5;241m.\u001b[39mprojection\u001b[38;5;241m.\u001b[39mweight\u001b[38;5;241m.\u001b[39mdtype\n\u001b[0;32m--> 363\u001b[0m \u001b[38;5;28;01mif\u001b[39;00m \u001b[43mpixel_values\u001b[49m\u001b[38;5;241;43m.\u001b[39;49m\u001b[43mdtype\u001b[49m \u001b[38;5;241m!=\u001b[39m expected_dtype:\n\u001b[1;32m    364\u001b[0m     pixel_values \u001b[38;5;241m=\u001b[39m pixel_values\u001b[38;5;241m.\u001b[39mto(expected_dtype)\n\u001b[1;32m    366\u001b[0m embedding_output \u001b[38;5;241m=\u001b[39m \u001b[38;5;28mself\u001b[39m\u001b[38;5;241m.\u001b[39membeddings(pixel_values, bool_masked_pos\u001b[38;5;241m=\u001b[39mbool_masked_pos)\n",
      "\u001b[0;31mAttributeError\u001b[0m: 'PngImageFile' object has no attribute 'dtype'"
     ]
    }
   ],
   "source": [
    "X = dataset['train'][0]\n",
    "y = model(X[\"image\"])\n",
    "\n",
    "print(X[\"image\"].shape)\n",
    "print(y.shape)"
   ]
  },
  {
   "cell_type": "code",
   "execution_count": null,
   "metadata": {},
   "outputs": [],
   "source": [
    "# Passing single batch to model\n",
    "X = next(iter(train_dataloader))\n",
    "y = model(X[\"pixel_values\"])\n",
    "\n",
    "print(X[\"pixel_values\"].shape)\n",
    "print(y.shape)"
   ]
  }
 ],
 "metadata": {
  "kernelspec": {
   "display_name": "lgvit",
   "language": "python",
   "name": "python3"
  },
  "language_info": {
   "codemirror_mode": {
    "name": "ipython",
    "version": 3
   },
   "file_extension": ".py",
   "mimetype": "text/x-python",
   "name": "python",
   "nbconvert_exporter": "python",
   "pygments_lexer": "ipython3",
   "version": "3.9.20"
  }
 },
 "nbformat": 4,
 "nbformat_minor": 2
}
